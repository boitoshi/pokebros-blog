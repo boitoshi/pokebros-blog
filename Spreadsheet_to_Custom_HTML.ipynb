{
  "cells": [
    {
      "cell_type": "markdown",
      "metadata": {
        "id": "view-in-github",
        "colab_type": "text"
      },
      "source": [
        "<a href=\"https://colab.research.google.com/github/boitoshi/pokebros-blog/blob/main/Spreadsheet_to_Custom_HTML.ipynb\" target=\"_parent\"><img src=\"https://colab.research.google.com/assets/colab-badge.svg\" alt=\"Open In Colab\"/></a>"
      ]
    },
    {
      "cell_type": "markdown",
      "source": [
        "## Googleドライブ内のスプレッドシートをPythonで加工する\n",
        "### やりたいこと\n",
        "\n",
        "\n",
        "1.   Googleドライブ内のファイル（スプレッドシート）を読込\n",
        "2.   データ抽出・加工\n",
        "3.   カスタムHTMLのテンプレート用意\n",
        "4.   書き出し\n",
        "\n"
      ],
      "metadata": {
        "id": "R3wfTpfmCHAy"
      }
    },
    {
      "cell_type": "markdown",
      "source": [
        "## 0.準備\n",
        "\n",
        "1. **Google Colaboratoryの準備:**\n",
        "   * ライブラリをインストール。（pip）\n",
        "\n",
        "2. **Googleドライブへの認証:**\n",
        "   * Googleドライブにアクセスするための認証\n",
        "   * GoogleコラボでスプレッドシートやGoogleドライブにアクセスするには、毎回認証が必要"
      ],
      "metadata": {
        "id": "544gHjIZQRBU"
      }
    },
    {
      "cell_type": "code",
      "source": [
        "# ライブラリインストール\n",
        "!pip install google-auth-oauthlib gspread pandas\n",
        "\n",
        "# Googleドライブの認証\n",
        "from google.colab import auth\n",
        "auth.authenticate_user()\n",
        "\n",
        "import gspread\n",
        "from google.auth import default\n",
        "\n",
        "# GoogleCredentials.get_application_default() の代わりに default() を使用して認証情報を取得\n",
        "creds, _ = default()\n",
        "gc = gspread.authorize(creds)"
      ],
      "outputs": [
        {
          "output_type": "stream",
          "name": "stdout",
          "text": [
            "Requirement already satisfied: google-auth-oauthlib in /usr/local/lib/python3.10/dist-packages (1.2.1)\n",
            "Requirement already satisfied: gspread in /usr/local/lib/python3.10/dist-packages (6.0.2)\n",
            "Requirement already satisfied: pandas in /usr/local/lib/python3.10/dist-packages (2.2.2)\n",
            "Requirement already satisfied: google-auth>=2.15.0 in /usr/local/lib/python3.10/dist-packages (from google-auth-oauthlib) (2.27.0)\n",
            "Requirement already satisfied: requests-oauthlib>=0.7.0 in /usr/local/lib/python3.10/dist-packages (from google-auth-oauthlib) (1.3.1)\n",
            "Requirement already satisfied: StrEnum==0.4.15 in /usr/local/lib/python3.10/dist-packages (from gspread) (0.4.15)\n",
            "Requirement already satisfied: numpy>=1.22.4 in /usr/local/lib/python3.10/dist-packages (from pandas) (1.26.4)\n",
            "Requirement already satisfied: python-dateutil>=2.8.2 in /usr/local/lib/python3.10/dist-packages (from pandas) (2.8.2)\n",
            "Requirement already satisfied: pytz>=2020.1 in /usr/local/lib/python3.10/dist-packages (from pandas) (2024.2)\n",
            "Requirement already satisfied: tzdata>=2022.7 in /usr/local/lib/python3.10/dist-packages (from pandas) (2024.2)\n",
            "Requirement already satisfied: cachetools<6.0,>=2.0.0 in /usr/local/lib/python3.10/dist-packages (from google-auth>=2.15.0->google-auth-oauthlib) (5.5.0)\n",
            "Requirement already satisfied: pyasn1-modules>=0.2.1 in /usr/local/lib/python3.10/dist-packages (from google-auth>=2.15.0->google-auth-oauthlib) (0.4.1)\n",
            "Requirement already satisfied: rsa<5,>=3.1.4 in /usr/local/lib/python3.10/dist-packages (from google-auth>=2.15.0->google-auth-oauthlib) (4.9)\n",
            "Requirement already satisfied: six>=1.5 in /usr/local/lib/python3.10/dist-packages (from python-dateutil>=2.8.2->pandas) (1.16.0)\n",
            "Requirement already satisfied: oauthlib>=3.0.0 in /usr/local/lib/python3.10/dist-packages (from requests-oauthlib>=0.7.0->google-auth-oauthlib) (3.2.2)\n",
            "Requirement already satisfied: requests>=2.0.0 in /usr/local/lib/python3.10/dist-packages (from requests-oauthlib>=0.7.0->google-auth-oauthlib) (2.32.3)\n",
            "Requirement already satisfied: pyasn1<0.7.0,>=0.4.6 in /usr/local/lib/python3.10/dist-packages (from pyasn1-modules>=0.2.1->google-auth>=2.15.0->google-auth-oauthlib) (0.6.1)\n",
            "Requirement already satisfied: charset-normalizer<4,>=2 in /usr/local/lib/python3.10/dist-packages (from requests>=2.0.0->requests-oauthlib>=0.7.0->google-auth-oauthlib) (3.4.0)\n",
            "Requirement already satisfied: idna<4,>=2.5 in /usr/local/lib/python3.10/dist-packages (from requests>=2.0.0->requests-oauthlib>=0.7.0->google-auth-oauthlib) (3.10)\n",
            "Requirement already satisfied: urllib3<3,>=1.21.1 in /usr/local/lib/python3.10/dist-packages (from requests>=2.0.0->requests-oauthlib>=0.7.0->google-auth-oauthlib) (2.2.3)\n",
            "Requirement already satisfied: certifi>=2017.4.17 in /usr/local/lib/python3.10/dist-packages (from requests>=2.0.0->requests-oauthlib>=0.7.0->google-auth-oauthlib) (2024.8.30)\n"
          ]
        }
      ],
      "execution_count": null,
      "metadata": {
        "colab": {
          "base_uri": "https://localhost:8080/"
        },
        "id": "-Y5oZ2teQRBX",
        "outputId": "162ccaa5-39f1-4301-8db1-f079f359c573",
        "collapsed": true
      }
    },
    {
      "cell_type": "markdown",
      "source": [
        "## 1.スプレッドシートの読み込み\n",
        "\n",
        "シークレット機能を使って読込\n",
        "\n",
        "---\n",
        "シークレットに登録方法\n",
        "1. Google Colabの「編集」メニューから「ノートブックの設定」を選択します。\n",
        "「シークレット」タブ→「シークレットを追加」\n",
        "「名前」に任意の名前（例：SPREADSHEET_ID）、\n",
        "「値」にスプレッドシートのID（スプレッドシートのURLから d/ と /edit の間）を入力\n",
        "「保存」をクリック。\n",
        "2. コードでシークレットを読み込む\n",
        "\n",
        "```\n",
        "from google.colab import userdata\n",
        "spreadsheet_id = userdata.get('SPREADSHEET_ID')\n",
        "\n",
        "spreadsheet = gc.open_by_key(spreadsheet_id)\n",
        "\n",
        "# 解説:\n",
        "# from google.colab import userdata で、userdata モジュールをインポート\n",
        "# spreadsheet_id = userdata.get('SPREADSHEET_ID') で、シークレットとして保存したスプレッドシートIDを取得。'SPREADSHEET_ID' は、シークレットを設定した際に指定した名前。\n",
        "# gc.open_by_key(spreadsheet_id) で、取得したスプレッドシートIDを使ってスプレッドシートを開く。\n",
        "```\n",
        "\n",
        "直接読み込む場合は以下のように\n",
        "\n",
        "`spreadsheet = gc.open_by_url('https://docs.google.com/spreadsheets/d/”スプレッドシートID”/edit#gid=0')`\n",
        "\n"
      ],
      "metadata": {
        "id": "t6dAP_Z3U1hz"
      }
    },
    {
      "cell_type": "code",
      "source": [
        "from google.colab import userdata\n",
        "spreadsheet_id = userdata.get('SPREADSHEET_ID_ELITE4')\n",
        "\n",
        "# gspreadを使ってスプレッドシートを開く\n",
        "spreadsheet = gc.open_by_key(spreadsheet_id)"
      ],
      "metadata": {
        "id": "vgIW6Cj5CbkZ"
      },
      "execution_count": null,
      "outputs": []
    },
    {
      "cell_type": "markdown",
      "source": [
        "## 2.データの抽出と加工\n",
        "*   スプレッドシート全体のシートを取得。\n",
        "*   各シートのデータを整形して辞書形式に格納。\n"
      ],
      "metadata": {
        "id": "Rnw5FkGl8UpD"
      }
    },
    {
      "cell_type": "code",
      "source": [
        "# 必要なライブラリをインポート\n",
        "import pandas as pd\n",
        "\n",
        "# データ整形\n",
        "columns = {\n",
        "    'trainer': 'トレーナー', 'pokemon': 'ポケモン', 'gender': 'せいべつ', 'level': 'レベル',\n",
        "    'move1': 'わざ1', 'move2': 'わざ2', 'move3': 'わざ3', 'move4': 'わざ4',\n",
        "    'ability': 'とくせい', 'Nature': 'せいかく', 'IV': '個体値', 'EV': '努力値'\n",
        "} # 'キー(key): 値(value) '　値(value)はスプレッドシート見出しとあわせること\n",
        "\n",
        "# スプレッドシートのすべてのシートからデータを取得して辞書にする関数\n",
        "def get_all_sheet_data(spreadsheet, columns):\n",
        "    all_data = {}  # 各シートのデータをまとめる辞書\n",
        "\n",
        "    for sheet in spreadsheet.worksheets():  # 各シートをループ\n",
        "        sheet_name = sheet.title  # シート名を取得\n",
        "        data = sheet.get_all_values()  # シート全体のデータ取得\n",
        "        df = pd.DataFrame(data[1:], columns=data[0])  # データフレーム化（1行目をカラム名に）\n",
        "\n",
        "        # 存在するカラムだけでデータを取得\n",
        "        existing_columns = {k: v for k, v in columns.items() if v in df.columns}  # 見つかったカラムだけ辞書にする k = key（キー） v = value（値）※変数\n",
        "        if not existing_columns:\n",
        "            print(f\"{sheet_name} シートには指定のカラムが見つからなかったよ💦\")\n",
        "            continue\n",
        "\n",
        "        trainer_dict = {}  # トレーナー別のデータを保存する辞書\n",
        "        current_trainer = None\n",
        "\n",
        "        for _, row in df.iterrows():\n",
        "            # トレーナー名がある場合は更新\n",
        "            if row[existing_columns['trainer']] != \"\":\n",
        "                current_trainer = row[existing_columns['trainer']]\n",
        "                if current_trainer not in trainer_dict:\n",
        "                    trainer_dict[current_trainer] = []\n",
        "\n",
        "            # トレーナー名もポケモン名もない行はスキップ\n",
        "            if current_trainer is None or row[existing_columns['pokemon']] == \"\":\n",
        "                continue\n",
        "\n",
        "            # 性別カラムがある場合だけ処理\n",
        "            pokemon_name = row[existing_columns['pokemon']]\n",
        "            if 'gender' in existing_columns:\n",
        "                gender = row[existing_columns['gender']]\n",
        "                if pd.notna(gender) and gender != \"ふめい\":\n",
        "                    pokemon_name += f\" ({gender})\"\n",
        "\n",
        "            # ポケモンデータの作成（見つかったカラムだけ）\n",
        "            pokemon_data = {\n",
        "                \"name\": pokemon_name,\n",
        "                \"level\": row[existing_columns['level']],\n",
        "                \"moves\": [row[existing_columns.get(f\"move{i}\", \"\")] for i in range(1, 5) if existing_columns.get(f\"move{i}\", \"\") in df.columns]\n",
        "            }\n",
        "\n",
        "            # 他の任意カラムもあれば追加\n",
        "            for optional_col in ['ability', 'Nature', 'IV', 'EV']:\n",
        "                if optional_col in existing_columns:\n",
        "                    pokemon_data[optional_col] = row[existing_columns[optional_col]]\n",
        "\n",
        "            # トレーナーのポケモンリストに追加\n",
        "            trainer_dict[current_trainer].append(pokemon_data)\n",
        "\n",
        "        # シートの名前をキーに辞書に保存\n",
        "        all_data[sheet_name] = trainer_dict\n",
        "\n",
        "    return all_data"
      ],
      "metadata": {
        "id": "rH181CwbGg_F"
      },
      "execution_count": null,
      "outputs": []
    },
    {
      "cell_type": "markdown",
      "source": [
        " ### （確認用）シート名・トレーナー名で検索・表示\n",
        " きちんとデータが整形でいているかを事前に確認"
      ],
      "metadata": {
        "id": "m7Dr_tlZJ4VW"
      }
    },
    {
      "cell_type": "code",
      "source": [
        "# 全シートデータの取得\n",
        "all_sheet_data = get_all_sheet_data(spreadsheet, columns)\n",
        "\n",
        "# 地方と四天王名を変更して特定のトレーナーの情報を出力する\n",
        "sheet_name = 'ブルベリ'\n",
        "trainer_name = 'アカマツ'\n",
        "\n",
        "if sheet_name in all_sheet_data and trainer_name in all_sheet_data[sheet_name]:\n",
        "    for pokemon in all_sheet_data[sheet_name][trainer_name]:\n",
        "        print(pokemon)\n",
        "else:\n",
        "    print(f\"{sheet_name} シートまたは {trainer_name} のデータは見つかりませんでした💦\")"
      ],
      "metadata": {
        "id": "0X0wE1MCJ5a_",
        "colab": {
          "base_uri": "https://localhost:8080/"
        },
        "outputId": "064b42ba-fea9-4506-fe24-52bdebccd060"
      },
      "execution_count": null,
      "outputs": [
        {
          "output_type": "stream",
          "name": "stdout",
          "text": [
            "{'name': 'ヒートロトム', 'level': 'Lv.77', 'moves': ['おにび', 'オーバーヒート', '10まんボルト', 'たたりめ'], 'ability': 'ふゆう', 'Nature': 'ずぶとい', 'IV': '攻撃0', 'EV': 'HP244\\n特攻12\\n素早さ252'}\n",
            "{'name': 'ファイアロー (♂)', 'level': 'Lv.77', 'moves': ['にほんばれ', 'ブレイブバード', 'フレアドライブ', 'はねやすめ'], 'ability': 'ほのおのからだ', 'Nature': 'ようき', 'IV': '全て31', 'EV': 'HP148\\n攻撃108\\n素早さ252'}\n",
            "{'name': 'ナッシー (♂)', 'level': 'Lv.78', 'moves': ['やどりぎのタネ', 'サイコショック', 'まもる', 'ソーラービーム'], 'ability': 'しゅうかく', 'Nature': 'おだやか', 'IV': '攻撃0', 'EV': 'HP252\\n防御100\\n特防156'}\n",
            "{'name': 'バクーダ (♂)', 'level': 'Lv.78', 'moves': ['だいちのちから', 'ねっぷう', 'げんしのちから', 'しねんのずつき'], 'ability': 'ハードロック', 'Nature': 'れいせい', 'IV': '全て31', 'EV': 'HP164\\n防御108\\n特防236'}\n",
            "{'name': 'ブーバーン  (♂)', 'level': 'Lv.78', 'moves': ['サイコキネシス', '10まんボルト', 'ねっぷう', 'にほんばれ'], 'ability': 'ほのおのからだ', 'Nature': 'おくびょう', 'IV': '攻撃0', 'EV': 'HP164\\n特攻252\\n素早さ92'}\n",
            "{'name': 'バシャーモ (♂)', 'level': 'Lv.79', 'moves': ['ストーンエッジ', 'きあいだま', 'やけっぱち', 'シャドークロー'], 'ability': 'かそく', 'Nature': 'いじっぱり', 'IV': '全て31', 'EV': 'HP228\\n攻撃252\\n防御12'}\n"
          ]
        }
      ]
    },
    {
      "cell_type": "markdown",
      "source": [
        "## 3.出力するHTMLテンプレの用意\n",
        "\t1.\t全カラム読み込み: get_trainer_data 関数内で全データを取得し、データフレームに変換。\n",
        "\t2.\tカラムのマッピング設定: columns 辞書を使って、カラム名を指定。これにより、出力時にどのカラムを使うかを選べるようになっています。\n",
        "\t3.\t出力時のフィルタリング: filter_trainer_data 関数を新たに追加し、指定されたカラムだけを抽出してフィルタリングする機能を実装しました。"
      ],
      "metadata": {
        "id": "lISIYmp8duCV"
      }
    },
    {
      "cell_type": "code",
      "source": [
        "def generate_html_tables(trainer_dict):\n",
        "    html_output = \"\"  # 最終的なHTML出力を格納する変数\n",
        "\n",
        "    for trainer_name, pokemons in trainer_dict.items():\n",
        "        # 各トレーナーのテーブルを生成\n",
        "        html_output += f'<h2>{trainer_name}</h2>\\n'  # トレーナー名の見出し\n",
        "        html_output += '<table class=\"table-elite-four\">\\n<tbody>\\n'\n",
        "\n",
        "        # 名前の行\n",
        "        name_row = '<tr>\\n'\n",
        "        for pokemon in pokemons[:6]:  # 最大6匹\n",
        "            name_row += f'  <th><alt=\"{pokemon[\"name\"]}\"></th>\\n'\n",
        "        name_row += '</tr>\\n'\n",
        "        html_output += name_row\n",
        "\n",
        "        # 性別付き名前の行\n",
        "        gender_row = '<tr>\\n'\n",
        "        for pokemon in pokemons[:6]:\n",
        "            gender_row += f'  <td align=\"center\">{pokemon[\"name\"]}</td>\\n'\n",
        "        gender_row += '</tr>\\n'\n",
        "        html_output += gender_row\n",
        "\n",
        "        # レベルの行\n",
        "        level_row = '<tr>\\n'\n",
        "        for pokemon in pokemons[:6]:\n",
        "            level_row += f'  <td align=\"center\">{pokemon[\"level\"]}</td>\\n'\n",
        "        level_row += '</tr>\\n'\n",
        "        html_output += level_row\n",
        "\n",
        "        # 特性の行（追加）\n",
        "        if any(\"ability\" in pokemon for pokemon in pokemons):\n",
        "            ability_row = '<tr>\\n'\n",
        "            for pokemon in pokemons[:6]:\n",
        "                ability_row += f'  <td align=\"center\">{pokemon[\"ability\"]}</td>\\n'\n",
        "            ability_row += '</tr>\\n'\n",
        "            html_output += ability_row\n",
        "\n",
        "        # 技の行\n",
        "        moves_row = '<tr>\\n'\n",
        "        for pokemon in pokemons[:6]:\n",
        "            moves_row += '  <td><ul>\\n'\n",
        "            for move in pokemon[\"moves\"]:\n",
        "                moves_row += f'    <li>{move}</li>\\n'\n",
        "            moves_row += '  </ul></td>\\n'\n",
        "        moves_row += '</tr>\\n'\n",
        "        html_output += moves_row\n",
        "\n",
        "        # 他の見出しも出したければ適宜追加する\n",
        "\n",
        "        html_output += '</tbody>\\n</table>\\n'  # テーブルの閉じタグ\n",
        "\n",
        "    return html_output"
      ],
      "metadata": {
        "id": "10Tbq1m0cGOE",
        "collapsed": true
      },
      "execution_count": null,
      "outputs": []
    },
    {
      "cell_type": "markdown",
      "source": [
        "## 4.HTMLへ出力\n",
        "sheet_nameとtrainer_nameで指定したトレーナーのポケモン情報を指定のHTMLに代入\n",
        "出力されたものをカスタムHTMLへコピペ\n",
        "※この後CSSの設定を忘れないこと"
      ],
      "metadata": {
        "id": "XGZTvr9IYKrf"
      }
    },
    {
      "cell_type": "code",
      "source": [
        "# 全シートのデータを取得\n",
        "all_sheet_data = get_all_sheet_data(spreadsheet, columns)\n",
        "\n",
        "# 出力したいシートとトレーナーを指定\n",
        "sheet_name = 'イッシュ'\n",
        "trainer_name = 'レンブ'\n",
        "\n",
        "# 指定したシートとトレーナー名がデータにあるか確認してからHTML出力\n",
        "if sheet_name in all_sheet_data and trainer_name in all_sheet_data[sheet_name]:\n",
        "    # 指定のトレーナーデータを辞書にしてHTML関数に渡す\n",
        "    specific_trainer_data = {trainer_name: all_sheet_data[sheet_name][trainer_name]}\n",
        "    html_tables = generate_html_tables(specific_trainer_data)\n",
        "    print(html_tables)  # 指定したトレーナーのHTMLテーブルを出力\n",
        "else:\n",
        "    print(f\"{sheet_name} シートまたは {trainer_name} のデータは見つかりませんでした💦\")\n"
      ],
      "metadata": {
        "colab": {
          "base_uri": "https://localhost:8080/"
        },
        "id": "5SkvGgHN5DWf",
        "outputId": "220ba742-bd18-4fce-bb44-6a0df33b308b"
      },
      "execution_count": null,
      "outputs": [
        {
          "output_type": "stream",
          "name": "stdout",
          "text": [
            "<h2>レンブ</h2>\n",
            "<table class=\"table-elite-four\">\n",
            "<tbody>\n",
            "<tr>\n",
            "  <th><alt=\"ナゲキ (♂)\"></th>\n",
            "  <th><alt=\"ダゲキ (♂)\"></th>\n",
            "  <th><alt=\"ローブシン (♂)\"></th>\n",
            "  <th><alt=\"コジョンド (♂)\"></th>\n",
            "</tr>\n",
            "<tr>\n",
            "  <td align=\"center\">ナゲキ (♂)</td>\n",
            "  <td align=\"center\">ダゲキ (♂)</td>\n",
            "  <td align=\"center\">ローブシン (♂)</td>\n",
            "  <td align=\"center\">コジョンド (♂)</td>\n",
            "</tr>\n",
            "<tr>\n",
            "  <td align=\"center\">Lv.48</td>\n",
            "  <td align=\"center\">Lv.48</td>\n",
            "  <td align=\"center\">Lv.48</td>\n",
            "  <td align=\"center\">Lv.50</td>\n",
            "</tr>\n",
            "<tr>\n",
            "  <td align=\"center\">こんじょう</td>\n",
            "  <td align=\"center\">がんじょう</td>\n",
            "  <td align=\"center\">ちからずく</td>\n",
            "  <td align=\"center\">せいしんりょく</td>\n",
            "</tr>\n",
            "<tr>\n",
            "  <td><ul>\n",
            "    <li>やまあらし</li>\n",
            "    <li>ストーンエッジ</li>\n",
            "    <li>じならし</li>\n",
            "    <li>しっぺがえし</li>\n",
            "  </ul></td>\n",
            "  <td><ul>\n",
            "    <li>からてチョップ</li>\n",
            "    <li>ストーンエッジ</li>\n",
            "    <li>くさむすび</li>\n",
            "    <li>かたきうち</li>\n",
            "  </ul></td>\n",
            "  <td><ul>\n",
            "    <li>アームハンマー</li>\n",
            "    <li>ストーンエッジ</li>\n",
            "    <li>くさむすび</li>\n",
            "    <li>かたきうち</li>\n",
            "  </ul></td>\n",
            "  <td><ul>\n",
            "    <li>とびげり</li>\n",
            "    <li>いわなだれ</li>\n",
            "    <li>とんぼがえり</li>\n",
            "    <li>かたきうち</li>\n",
            "  </ul></td>\n",
            "</tr>\n",
            "</tbody>\n",
            "</table>\n",
            "\n"
          ]
        }
      ]
    }
  ],
  "metadata": {
    "colab": {
      "provenance": [],
      "include_colab_link": true
    },
    "kernelspec": {
      "display_name": "Python 3",
      "name": "python3"
    }
  },
  "nbformat": 4,
  "nbformat_minor": 0
}